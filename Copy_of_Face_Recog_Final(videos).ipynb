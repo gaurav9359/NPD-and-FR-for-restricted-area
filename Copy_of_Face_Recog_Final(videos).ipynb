{
  "cells": [
    {
      "cell_type": "code",
      "execution_count": null,
      "metadata": {
        "id": "y4pbr8SoeShc"
      },
      "outputs": [],
      "source": [
        "# Importing all necessary libraries\n",
        "# FINAL FRAME CAPTURE CODE\n",
        "\n",
        "import cv2\n",
        "import os\n",
        "import math\n",
        "\n",
        "# Read the video from specified path\n",
        "vid_no=\"V5\"\n",
        "vid = cv2.VideoCapture(\"M:\\PBL\\V5.mp4\")\n",
        "# vid = cv2.VideoCapture(\"M:\\PBL\" + vid_no+\".mp4\")\n",
        "frameRate = vid.get(5) #frame rat\n",
        "\n",
        "try:\n",
        "\n",
        "    # creating a folder named data\n",
        "    if not os.path.exists('data'):\n",
        "        os.makedirs('data')\n",
        "\n",
        "# if not created then raise error\n",
        "except OSError:\n",
        "    print('Error: Creating directory of data')\n",
        "\n",
        "# frame\n",
        "currentframe = 0\n",
        "\n",
        "while (True):\n",
        "\n",
        "    frameId = vid.get(1)\n",
        "    # reading from frame\n",
        "    success, frame = vid.read()\n",
        "\n",
        "    if success:\n",
        "\n",
        "\n",
        "        cv2.imshow(\"Output\",frame)\n",
        "        if (frameId % math.floor(frameRate) == 0):\n",
        "\n",
        "        # continue creating images until video remains\n",
        "#         cv2.waitKey(80);\n",
        "\n",
        "\n",
        "            name = 'M:/Face-Recognition-Dataset/data/frame' + vid_no +\"-\" + str(currentframe) + '.jpg'\n",
        "            print('Creating...' + name)\n",
        "\n",
        "        # writing the extracted images\n",
        "            cv2.imwrite(name, frame)\n",
        "\n",
        "        # increasing counter so that it will\n",
        "        # show how many frames are created\n",
        "            currentframe += 1\n",
        "    else:\n",
        "        break\n",
        "\n",
        "# Release all space and windows once done\n",
        "vid.release()\n",
        "cv2.destroyAllWindows()"
      ]
    },
    {
      "cell_type": "code",
      "execution_count": null,
      "metadata": {
        "colab": {
          "base_uri": "https://localhost:8080/"
        },
        "id": "MQVMqmv9kenX",
        "outputId": "c74a5dab-bbc5-4b63-c9bc-0d62ff51a5c6"
      },
      "outputs": [
        {
          "output_type": "stream",
          "name": "stdout",
          "text": [
            "Collecting face_recognition\n",
            "  Downloading face_recognition-1.3.0-py2.py3-none-any.whl (15 kB)\n",
            "Collecting face-recognition-models>=0.3.0 (from face_recognition)\n",
            "  Downloading face_recognition_models-0.3.0.tar.gz (100.1 MB)\n",
            "\u001b[2K     \u001b[90m━━━━━━━━━━━━━━━━━━━━━━━━━━━━━━━━━━━━━━━\u001b[0m \u001b[32m100.1/100.1 MB\u001b[0m \u001b[31m8.6 MB/s\u001b[0m eta \u001b[36m0:00:00\u001b[0m\n",
            "\u001b[?25h  Preparing metadata (setup.py) ... \u001b[?25l\u001b[?25hdone\n",
            "Requirement already satisfied: Click>=6.0 in /usr/local/lib/python3.10/dist-packages (from face_recognition) (8.1.6)\n",
            "Requirement already satisfied: dlib>=19.7 in /usr/local/lib/python3.10/dist-packages (from face_recognition) (19.24.2)\n",
            "Requirement already satisfied: numpy in /usr/local/lib/python3.10/dist-packages (from face_recognition) (1.23.5)\n",
            "Requirement already satisfied: Pillow in /usr/local/lib/python3.10/dist-packages (from face_recognition) (9.4.0)\n",
            "Building wheels for collected packages: face-recognition-models\n",
            "  Building wheel for face-recognition-models (setup.py) ... \u001b[?25l\u001b[?25hdone\n",
            "  Created wheel for face-recognition-models: filename=face_recognition_models-0.3.0-py2.py3-none-any.whl size=100566172 sha256=d59f194b7dbdec32e4789d39660b62cfa2e18badc915ccbda1728cf7517104d5\n",
            "  Stored in directory: /root/.cache/pip/wheels/7a/eb/cf/e9eced74122b679557f597bb7c8e4c739cfcac526db1fd523d\n",
            "Successfully built face-recognition-models\n",
            "Installing collected packages: face-recognition-models, face_recognition\n",
            "Successfully installed face-recognition-models-0.3.0 face_recognition-1.3.0\n"
          ]
        }
      ],
      "source": [
        "!pip install face_recognition\n",
        "# !git clone https://github.com/VarshaV16/Face-Recognition-Dataset.git"
      ]
    },
    {
      "cell_type": "code",
      "execution_count": null,
      "metadata": {
        "id": "2m9uix2I23e2"
      },
      "outputs": [],
      "source": [
        "import cv2\n",
        "import os\n",
        "\n",
        "# Set video folder and output folder paths\n",
        "video_folder = 'videos'\n",
        "output_folder = 'output_images'\n",
        "\n",
        "# Loop through all videos\n",
        "for video in os.listdir(video_folder):\n",
        "\n",
        "  vidcap = cv2.VideoCapture(os.path.join(video_folder, video))\n",
        "  count = 0\n",
        "\n",
        "  # Read video frame by frame\n",
        "  success, image = vidcap.read()\n",
        "  while success:\n",
        "    # Save frame as jpeg image\n",
        "    cv2.imwrite(os.path.join(output_folder, \"frame%d.jpg\" % count), image)\n",
        "\n",
        "    # Read next frame after 1 millisecond\n",
        "    success,image = vidcap.read()\n",
        "    count += 1\n",
        "\n",
        "print(\"Frames extracted and saved successfully!\")"
      ]
    },
    {
      "cell_type": "code",
      "execution_count": null,
      "metadata": {
        "colab": {
          "base_uri": "https://localhost:8080/"
        },
        "id": "mjsFOwosP5ow",
        "outputId": "0b6a0acd-690d-4413-e92d-8f36436713c0"
      },
      "outputs": [
        {
          "output_type": "stream",
          "name": "stdout",
          "text": [
            "Mounted at /content/drive\n"
          ]
        }
      ],
      "source": [
        "from google.colab import drive\n",
        "drive.mount('/content/drive')"
      ]
    },
    {
      "cell_type": "code",
      "execution_count": null,
      "metadata": {
        "colab": {
          "base_uri": "https://localhost:8080/",
          "height": 1000
        },
        "id": "YRQ5lPRrleo-",
        "outputId": "e6a32519-990e-4a0a-e3a6-14506c459c8b"
      },
      "outputs": [],
      "source": [
        "#all videos analysis\n",
        "\n",
        "import face_recognition\n",
        "import cv2\n",
        "import os\n",
        "from google.colab.patches import cv2_imshow\n",
        "\n",
        "def read_img(path):\n",
        "  img = cv2.imread(path)\n",
        "  (h,w) = img.shape[:2]\n",
        "  width = 500\n",
        "  ratio = width/float(w)\n",
        "  height = int(h*ratio)\n",
        "  return cv2.resize(img, (width, height))\n",
        "\n",
        "known_encodings = []\n",
        "known_name = []\n",
        "known_dir = '/content/drive/MyDrive/PBLVideos/Known'\n",
        "known_cnt=0\n",
        "\n",
        "for file in os.listdir(known_dir):\n",
        "  try:\n",
        "    img = read_img(known_dir + '/' + file)\n",
        "    img_enc = face_recognition.face_encodings(img)[0]\n",
        "    known_encodings.append(img_enc)\n",
        "    known_name.append(file.split('.')[0])\n",
        "  except:\n",
        "    print(\"Something went wrong\")\n",
        "    continue\n",
        "\n",
        "unknown_dir = '/content/drive/MyDrive/PBLVideos/Target'\n",
        "for file in os.listdir(unknown_dir):\n",
        "  try:\n",
        "    if file == '.ipynb_checkpoints':\n",
        "      continue\n",
        "    print('Processing....', file)\n",
        "\n",
        "    # print(file)\n",
        "    img = read_img(unknown_dir + '/' + file)\n",
        "    img_enc = face_recognition.face_encodings(img)[0]\n",
        "    results = face_recognition.compare_faces(known_encodings, img_enc)\n",
        "    # print(face_recognition.face_distance(known_encodings, img_enc))\n",
        "\n",
        "    for i in range(len(results)):\n",
        "      if results[i]:\n",
        "        print(known_name[i])\n",
        "\n",
        "        name = known_name[i]\n",
        "        (top, right, bottom, left) = face_recognition.face_locations(img)[0]\n",
        "        cv2.rectangle(img, (left,top), (right,bottom), (0,0,255), 2)\n",
        "        cv2.putText(img,name,(left+2,bottom+20),cv2.FONT_HERSHEY_PLAIN, 0.8, (255, 255, 255), 1)\n",
        "        cv2_imshow(img)\n",
        "        known_cnt+=1\n",
        "    # print(results)\n",
        "  except:\n",
        "    print('Cannot Process....', file)\n",
        "\n",
        "  print(\"Total identified: \", known_cnt)\n"
      ]
    },
    {
      "cell_type": "code",
      "execution_count": null,
      "metadata": {
        "colab": {
          "base_uri": "https://localhost:8080/"
        },
        "id": "YgrW_a6ZEHSv",
        "outputId": "b885233c-534b-4932-da5d-2821e320ef68"
      },
      "outputs": [
        {
          "output_type": "stream",
          "name": "stdout",
          "text": [
            "Processing.... frame_0.0.jpg\n",
            "Cannot Process.... frame_0.0.jpg\n",
            "Processing.... frame_1.0.jpg\n",
            "Cannot Process.... frame_1.0.jpg\n",
            "Processing.... frame_2.0.jpg\n",
            "Cannot Process.... frame_2.0.jpg\n",
            "Processing.... frame_3.0.jpg\n",
            "Cannot Process.... frame_3.0.jpg\n",
            "Processing.... frame_4.0.jpg\n",
            "Cannot Process.... frame_4.0.jpg\n",
            "Processing.... frame_5.0.jpg\n",
            "Cannot Process.... frame_5.0.jpg\n",
            "Processing.... frame_6.0.jpg\n",
            "Cannot Process.... frame_6.0.jpg\n",
            "Processing.... frame_7.0.jpg\n",
            "Cannot Process.... frame_7.0.jpg\n",
            "Processing.... frame_8.0.jpg\n",
            "Cannot Process.... frame_8.0.jpg\n",
            "Processing.... frame_9.0.jpg\n",
            "Cannot Process.... frame_9.0.jpg\n",
            "Processing.... frame_10.0.jpg\n",
            "Cannot Process.... frame_10.0.jpg\n",
            "Processing.... frame_11.0.jpg\n",
            "Cannot Process.... frame_11.0.jpg\n",
            "Processing.... frame_12.0.jpg\n",
            "Cannot Process.... frame_12.0.jpg\n",
            "Processing.... frame_13.0.jpg\n",
            "Cannot Process.... frame_13.0.jpg\n",
            "Processing.... frame_14.0.jpg\n",
            "Cannot Process.... frame_14.0.jpg\n",
            "Processing.... frame_15.0.jpg\n",
            "Cannot Process.... frame_15.0.jpg\n",
            "Processing.... frame_16.0.jpg\n",
            "Cannot Process.... frame_16.0.jpg\n",
            "Processing.... frame_17.0.jpg\n",
            "Cannot Process.... frame_17.0.jpg\n",
            "Processing.... frame_18.0.jpg\n",
            "Cannot Process.... frame_18.0.jpg\n",
            "Processing.... frame_19.0.jpg\n",
            "Cannot Process.... frame_19.0.jpg\n",
            "Processing.... frame_20.0.jpg\n",
            "Cannot Process.... frame_20.0.jpg\n",
            "Processing.... frame_21.0.jpg\n",
            "Cannot Process.... frame_21.0.jpg\n",
            "Processing.... frame_22.0.jpg\n",
            "Cannot Process.... frame_22.0.jpg\n"
          ]
        }
      ],
      "source": [
        "#tanish video- without api\n",
        "import face_recognition\n",
        "import cv2\n",
        "import os\n",
        "from google.colab.patches import cv2_imshow\n",
        "\n",
        "def read_img(path):\n",
        "  img = cv2.imread(path)\n",
        "  (h,w) = img.shape[:2]\n",
        "  width = 500\n",
        "  ratio = width/float(w)\n",
        "  height = int(h*ratio)\n",
        "  return cv2.resize(img, (width, height))\n",
        "\n",
        "known_encodings = []\n",
        "known_name = []\n",
        "known_dir = '/content/drive/MyDrive/PBLVideos/New_known'\n",
        "known_cnt=0\n",
        "\n",
        "for file in os.listdir(known_dir):\n",
        "  try:\n",
        "    img = read_img(known_dir + '/' + file)\n",
        "    img_enc = face_recognition.face_encodings(img)[0]\n",
        "    known_encodings.append(img_enc)\n",
        "    known_name.append(file.split('.')[0])\n",
        "  except:\n",
        "    print(\"Something went wrong\")\n",
        "    continue\n",
        "\n",
        "unknown_dir = '/content/drive/MyDrive/PBLVideos/Output/Tanish'\n",
        "for file in os.listdir(unknown_dir):\n",
        "  try:\n",
        "    if file == '.ipynb_checkpoints':\n",
        "      continue\n",
        "    print('Processing....', file)\n",
        "\n",
        "    # print(file)\n",
        "    img = read_img(unknown_dir + '/' + file)\n",
        "    img_enc = face_recognition.face_encodings(img)[0]\n",
        "    results = face_recognition.compare_faces(known_encodings, img_enc)\n",
        "    # print(face_recognition.face_distance(known_encodings, img_enc))\n",
        "\n",
        "    for i in range(len(results)):\n",
        "      if results[i]:\n",
        "        print(known_name[i])\n",
        "        name = known_name[i]\n",
        "        (top, right, bottom, left) = face_recognition.face_locations(img)[0]\n",
        "        cv2.rectangle(img, (left,top), (right,bottom), (0,0,255), 2)\n",
        "        cv2.putText(img,name,(left+2,bottom+20),cv2.FONT_HERSHEY_PLAIN, 0.8, (255, 255, 255), 1)\n",
        "        cv2_imshow(img)\n",
        "        known_cnt+=1\n",
        "    # print(results)\n",
        "  except:\n",
        "    print('Cannot Process....', file)\n"
      ]
    },
    {
      "cell_type": "code",
      "execution_count": null,
      "metadata": {
        "colab": {
          "base_uri": "https://localhost:8080/"
        },
        "id": "STrr2zXgBYbs",
        "outputId": "88db2264-26b4-4105-e404-99d201c5ca7b"
      },
      "outputs": [
        {
          "name": "stdout",
          "output_type": "stream",
          "text": [
            "Something went wrong\n",
            "Processing.... replicate-6.jpg\n",
            "Processing.... replicate-3.jpg\n",
            "Processing.... replicate-2.jpg\n",
            "Processing.... replicate-4.jpg\n"
          ]
        }
      ],
      "source": [
        "#first video- with api\n",
        "import face_recognition\n",
        "import cv2\n",
        "import os\n",
        "from google.colab.patches import cv2_imshow\n",
        "\n",
        "def read_img(path):\n",
        "  img = cv2.imread(path)\n",
        "  (h,w) = img.shape[:2]\n",
        "  width = 500\n",
        "  ratio = width/float(w)\n",
        "  height = int(h*ratio)\n",
        "  return cv2.resize(img, (width, height))\n",
        "\n",
        "known_encodings = []\n",
        "known_name = []\n",
        "known_dir = 'Face-Recognition-Dataset/Known'\n",
        "\n",
        "for file in os.listdir(known_dir):\n",
        "  try:\n",
        "    img = read_img(known_dir + '/' + file)\n",
        "    img_enc = face_recognition.face_encodings(img)[0]\n",
        "    known_encodings.append(img_enc)\n",
        "    known_name.append(file.split('.')[0])\n",
        "  except:\n",
        "    print(\"Something went wrong\")\n",
        "    continue\n",
        "\n",
        "unknown_dir = 'apiimages'\n",
        "for file in os.listdir(unknown_dir):\n",
        "  try:\n",
        "    if file == '.ipynb_checkpoints':\n",
        "      continue\n",
        "    print('Processing....', file)\n",
        "\n",
        "    # print(file)\n",
        "    img = read_img(unknown_dir + '/' + file)\n",
        "    img_enc = face_recognition.face_encodings(img)[0]\n",
        "    results = face_recognition.compare_faces(known_encodings, img_enc)\n",
        "    # print(face_recognition.face_distance(known_encodings, img_enc))\n",
        "\n",
        "    for i in range(len(results)):\n",
        "      if results[i]:\n",
        "        print(known_name[i])\n",
        "        name = known_name[i]\n",
        "        (top, right, bottom, left) = face_recognition.face_locations(img)[0]\n",
        "        cv2.rectangle(img, (left,top), (right,bottom), (0,0,255), 2)\n",
        "        cv2.putText(img,name,(left+2,bottom+20),cv2.FONT_HERSHEY_PLAIN, 0.8, (255, 255, 255), 1)\n",
        "        cv2_imshow(img)\n",
        "    # print(results)\n",
        "  except:\n",
        "    print('Cannot Process....', file)\n"
      ]
    },
    {
      "cell_type": "code",
      "source": [
        "import numpy as np\n",
        "import matplotlib.pyplot as plt\n",
        "from sklearn.metrics import confusion_matrix\n",
        "import seaborn as sns\n",
        "\n",
        "# Example data: True labels and predicted labels\n",
        "true_labels = np.array([1, 1, 0, 1, 0, 0, 1, 0, 0, 1])\n",
        "predicted_labels = np.array([1, 0, 0, 1, 0, 1, 0, 1, 0, 1])\n",
        "\n",
        "# Create confusion matrix\n",
        "cm = confusion_matrix(true_labels, predicted_labels)\n",
        "\n",
        "# Set up the plot\n",
        "plt.figure(figsize=(6, 6))\n",
        "sns.set(font_scale=1.2)\n",
        "sns.heatmap(cm, annot=True, fmt=\"d\", cmap=\"Blues\", cbar=False,\n",
        "            annot_kws={\"size\": 14}, linewidths=0.5, square=True)\n",
        "\n",
        "plt.xlabel('Predicted Labels')\n",
        "plt.ylabel('True Labels')\n",
        "plt.title('Confusion Matrix for Face Recognition Model')\n",
        "plt.show()\n"
      ],
      "metadata": {
        "colab": {
          "base_uri": "https://localhost:8080/",
          "height": 578
        },
        "id": "5a0EFoaSMloL",
        "outputId": "fb8e0185-2277-475f-eb19-9a6c3bb71a1f"
      },
      "execution_count": null,
      "outputs": [
        {
          "output_type": "display_data",
          "data": {
            "text/plain": [
              "<Figure size 600x600 with 1 Axes>"
            ],
            "image/png": "[encoded data removed]"
          },
          "metadata": {}
        }
      ]
    },
    {
      "cell_type": "code",
      "source": [
        "# import numpy as np1\n",
        "import numpy as np\n",
        "import matplotlib.pyplot as plt\n",
        "from sklearn.metrics import confusion_matrix\n",
        "import seaborn as sns\n",
        "\n",
        "# Get user input for confusion matrix values\n",
        "TP = int(input(\"Enter the number of True Positives (TP): \"))\n",
        "FN = int(input(\"Enter the number of False Negatives (FN): \"))\n",
        "FP = int(input(\"Enter the number of False Positives (FP): \"))\n",
        "TN = int(input(\"Enter the number of True Negatives (TN): \"))\n",
        "\n",
        "# Create a confusion matrix\n",
        "cm = np.array([[TP, FN], [FP, TN]])\n",
        "\n",
        "# Calculate confusion matrix metrics\n",
        "accuracy = (TP + TN) / (TP + TN + FP + FN)\n",
        "precision = TP / (TP + FP)\n",
        "recall = TP / (TP + FN)\n",
        "f1_score = 2 * (precision * recall) / (precision + recall)\n",
        "\n",
        "plt.figure(figsize=(6, 6))\n",
        "sns.set(font_scale=1.2)\n",
        "sns.heatmap(cm, annot=True, fmt=\"d\", cmap=\"Blues\", cbar=False,\n",
        "            annot_kws={\"size\": 14}, linewidths=0.5, square=True)\n",
        "\n",
        "plt.xlabel('Predicted Labels')\n",
        "plt.ylabel('True Labels')\n",
        "plt.title('Confusion Matrix for Face Recognition Model')\n",
        "plt.show()\n",
        "\n",
        "# Display the confusion matrix and metrics\n",
        "print(\"\\nConfusion Matrix:\")\n",
        "print(confusion_matrix)\n",
        "print(\"\\nConfusion Matrix Metrics:\")\n",
        "print(f\"Accuracy: {accuracy:.2f}\")\n",
        "print(f\"Precision: {precision:.2f}\")\n",
        "print(f\"Recall: {recall:.2f}\")\n",
        "print(f\"F1 Score: {f1_score:.2f}\")\n"
      ],
      "metadata": {
        "colab": {
          "base_uri": "https://localhost:8080/",
          "height": 804
        },
        "id": "m9zril8yn8lz",
        "outputId": "b3923ef4-b90a-4753-9620-c8d25577eb3c"
      },
      "execution_count": null,
      "outputs": [
        {
          "name": "stdout",
          "output_type": "stream",
          "text": [
            "Enter the number of True Positives (TP): 30\n",
            "Enter the number of False Negatives (FN): 6\n",
            "Enter the number of False Positives (FP): 1\n",
            "Enter the number of True Negatives (TN): 14\n"
          ]
        },
        {
          "output_type": "display_data",
          "data": {
            "text/plain": [
              "<Figure size 600x600 with 1 Axes>"
            ],
            "image/png": "[encoded data removed]"
          },
          "metadata": {}
        },
        {
          "output_type": "stream",
          "name": "stdout",
          "text": [
            "\n",
            "Confusion Matrix:\n",
            "<function confusion_matrix at 0x78a80772e950>\n",
            "\n",
            "Confusion Matrix Metrics:\n",
            "Accuracy: 0.86\n",
            "Precision: 0.97\n",
            "Recall: 0.83\n",
            "F1 Score: 0.90\n"
          ]
        }
      ]
    }
  ],
  "metadata": {
    "accelerator": "GPU",
    "colab": {
      "provenance": []
    },
    "kernelspec": {
      "display_name": "Python 3",
      "name": "python3"
    },
    "language_info": {
      "name": "python"
    }
  },
  "nbformat": 4,
  "nbformat_minor": 0
}